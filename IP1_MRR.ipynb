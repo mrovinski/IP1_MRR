{
 "cells": [
  {
   "cell_type": "markdown",
   "metadata": {},
   "source": [
    "# Individual Project 1 \n",
    "---\n",
    "**Author:** Molly Rovinski  \n",
    "**Version:** 1.0  \n",
    "**Semester:** Spring 2021  \n",
    "**Goal:** Write a Python program that reads from a file and performs simple data manipulation and display with Numpy and PrettyTable."
   ]
  },
  {
   "cell_type": "code",
   "execution_count": 60,
   "metadata": {},
   "outputs": [],
   "source": [
    "from prettytable import PrettyTable\n",
    "import numpy as np\n",
    "import csv"
   ]
  },
  {
   "cell_type": "markdown",
   "metadata": {},
   "source": [
    "**Problem A:** Write a function that will accept a filename and implement the code to open and read the parking.csv file into a list."
   ]
  },
  {
   "cell_type": "code",
   "execution_count": 88,
   "metadata": {},
   "outputs": [
    {
     "name": "stdout",
     "output_type": "stream",
     "text": [
      "[['OBJECTID', 'TYPE_FAC', 'LEVELS', 'TOTAL_SPCS', 'DAY_RATE', 'MONTH_RATE'], ['1', 'SURFACE LOT', '0', '17', '0', '55'], ['2', 'SURFACE LOT', '0', '310', '4', '70'], ['3', 'GARAGE', '2', '150', '15', '0'], ['4', 'SURFACE LOT', '0', '276', '2', '45'], ['5', 'GARAGE', '3', '1252', '5', '75'], ['6', 'GARAGE', '5', '1233', '5', '75'], ['7', 'SURFACE LOT', '0', '567', '0', '35'], ['8', 'SURFACE LOT', '0', '680', '0', '15'], ['9', 'GARAGE', '6', '645', '7', '60'], ['10', 'SURFACE LOT', '0', '92', '5', '45'], ['11', 'GARAGE', '7', '270', '8', '85'], ['12', 'GARAGE', '7', '482', '8', '105'], ['13', 'GARAGE', '9', '420', '6', '95'], ['14', 'GARAGE', '6', '740', '7', '85'], ['15', 'GARAGE', '3', '200', '7', '105'], ['16', 'GARAGE', '4', '516', '12', '0'], ['17', 'SURFACE LOT', '0', '40', '7', '130'], ['18', 'SURFACE LOT', '0', '53', '7', '125'], ['19', 'GARAGE', '9', '772', '7', '85'], ['20', 'SURFACE LOT', '0', '110', '6', '85'], ['21', 'GARAGE', '7', '483', '6', '80'], ['22', 'SURFACE LOT', '0', '53', '5', '70'], ['23', 'GARAGE', '5', '506', '7', '75'], ['24', 'GARAGE', '6', '384', '6', '70'], ['25', 'GARAGE', '5', '1235', '7', '75'], ['26', 'GARAGE', '6', '560', '7', '90'], ['27', 'SURFACE LOT', '0', '29', '0', '65'], ['28', 'SURFACE LOT', '0', '76', '0', '50'], ['29', 'SURFACE LOT', '0', '32', '0', '60'], ['30', 'GARAGE', '3', '416', '16', '65'], ['31', 'GARAGE', '8', '654', '7', '85'], ['32', 'GARAGE', '1', '85', '15', '150'], ['33', 'SURFACE LOT', '0', '15', '0', '85'], ['34', 'SURFACE LOT', '0', '177', '7', '120'], ['35', 'SURFACE LOT', '0', '244', '0', '65'], ['36', 'SURFACE LOT', '0', '117', '5.25', '0'], ['37', 'GARAGE', '4', '500', '4', '55'], ['38', 'GARAGE', '3', '220', '0', '50'], ['39', 'SURFACE LOT', '0', '17', '4', '0'], ['40', 'GARAGE', '6', '291', '7', '78'], ['41', 'SURFACE LOT', '0', '46', '5', '80'], ['42', 'SURFACE LOT', '0', '26', '4', '0'], ['43', 'SURFACE LOT', '0', '127', '4', '70'], ['44', 'SURFACE LOT', '0', '75', '4', '75'], ['45', 'SURFACE LOT', '0', '81', '8', '90'], ['46', 'SURFACE LOT', '0', '129', '4', '80'], ['47', 'SURFACE LOT', '0', '120', '5', '65'], ['48', 'GARAGE', '5', '1355', '5', '45'], ['49', 'SURFACE LOT', '0', '38', '3.5', '65'], ['50', 'GARAGE', '3', '126', '4', '70'], ['51', 'GARAGE', '5', '494', '12', '80'], ['52', 'SURFACE LOT', '0', '62', '5.5', '80'], ['53', 'SURFACE LOT', '0', '82', '4', '59'], ['54', 'SURFACE LOT', '0', '46', '3', '55'], ['55', 'SURFACE LOT', '0', '110', '3', '55'], ['56', 'SURFACE LOT', '0', '78', '3', '55'], ['57', 'SURFACE LOT', '0', '76', '2', '30'], ['58', 'GARAGE', '4', '330', '0', '45'], ['59', 'SURFACE LOT', '0', '108', '2.25', '45'], ['60', 'SURFACE LOT', '0', '168', '4', '70'], ['61', 'GARAGE', '5', '253', '3', '45'], ['62', 'SURFACE LOT', '0', '163', '2.5', '50'], ['63', 'SURFACE LOT', '0', '154', '1', '17.5'], ['64', 'SURFACE LOT', '0', '154', '1', '17.5'], ['65', 'SURFACE LOT', '0', '21', '0', '20'], ['66', 'GARAGE', '6', '962', '12', '75'], ['67', 'GARAGE', '2', '341', '7', '95'], ['68', 'GARAGE', '3', '1925', '12', '90'], ['69', 'GARAGE', '4', '450', '7', '85'], ['70', 'GARAGE', '9', '731', '10', '85'], ['71', 'GARAGE', '9', '534', '7', '90'], ['72', 'GARAGE', '5', '671', '7', '80'], ['73', 'SURFACE LOT', '0', '276', '2', '45'], ['74', 'GARAGE', '4', '701', '8', '80'], ['75', 'SURFACE LOT', '0', '33', '2', '30'], ['76', 'GARAGE', '6', '789', '0', '130'], ['77', 'GARAGE', '1', '410', '9', '85'], ['78', 'GARAGE', '2', '700', '9', '85'], ['79', 'SURFACE LOT', '0', '72', '0', '60'], ['80', 'SURFACE LOT', '0', '65', '0', '60'], ['81', 'SURFACE LOT', '0', '47', '0', '60'], ['82', 'SURFACE LOT', '0', '40', '5', '70'], ['83', 'SURFACE LOT', '0', '71', '5.5', '85'], ['84', 'SURFACE LOT', '0', '70', '4', '85'], ['85', 'SURFACE LOT', '0', '252', '0', '50'], ['86', 'SURFACE LOT', '0', '94', '5', '59'], ['87', 'SURFACE LOT', '0', '62', '9', '0'], ['88', 'GARAGE', '1', '27', '9', '0'], ['89', 'SURFACE LOT', '0', '22', '5', '80'], ['90', 'SURFACE LOT', '0', '120', '5', '80'], ['91', 'SURFACE LOT', '0', '46', '5', '80'], ['92', 'SURFACE LOT', '0', '46', '2', '0'], ['93', 'SURFACE LOT', '0', '155', '2', '35'], ['94', 'SURFACE LOT', '0', '37', '1', '20'], ['95', 'SURFACE LOT', '0', '69', '0', '20'], ['96', 'SURFACE LOT', '0', '103', '0', '65']]\n"
     ]
    }
   ],
   "source": [
    "def get_data(filename):\n",
    "    \"\"\"This function accepts a file name and opens the file into a list.\"\"\"\n",
    "    ans = []\n",
    "    with open (filename, mode = 'r') as file:\n",
    "        for rec in file:\n",
    "            ans.append(rec.replace('\\n','').split(','))\n",
    "    return ans\n",
    "\n",
    "data = get_data('parking.csv')\n",
    "print(data)"
   ]
  },
  {
   "cell_type": "markdown",
   "metadata": {},
   "source": [
    "**Problem B:** Write a function that accepts a list and prints a PrettyTable of the data with the first row of the data as the header row."
   ]
  },
  {
   "cell_type": "code",
   "execution_count": 89,
   "metadata": {},
   "outputs": [
    {
     "name": "stdout",
     "output_type": "stream",
     "text": [
      "+----------+-------------+--------+------------+----------+------------+\n",
      "| OBJECTID |    TYPE_FAC | LEVELS | TOTAL_SPCS | DAY_RATE | MONTH_RATE |\n",
      "+----------+-------------+--------+------------+----------+------------+\n",
      "|        1 | SURFACE LOT |      0 |         17 |        0 |         55 |\n",
      "|        2 | SURFACE LOT |      0 |        310 |        4 |         70 |\n",
      "|        3 |      GARAGE |      2 |        150 |       15 |          0 |\n",
      "|        4 | SURFACE LOT |      0 |        276 |        2 |         45 |\n",
      "|        5 |      GARAGE |      3 |       1252 |        5 |         75 |\n",
      "|        6 |      GARAGE |      5 |       1233 |        5 |         75 |\n",
      "|        7 | SURFACE LOT |      0 |        567 |        0 |         35 |\n",
      "|        8 | SURFACE LOT |      0 |        680 |        0 |         15 |\n",
      "|        9 |      GARAGE |      6 |        645 |        7 |         60 |\n",
      "|       10 | SURFACE LOT |      0 |         92 |        5 |         45 |\n",
      "|       11 |      GARAGE |      7 |        270 |        8 |         85 |\n",
      "|       12 |      GARAGE |      7 |        482 |        8 |        105 |\n",
      "|       13 |      GARAGE |      9 |        420 |        6 |         95 |\n",
      "|       14 |      GARAGE |      6 |        740 |        7 |         85 |\n",
      "|       15 |      GARAGE |      3 |        200 |        7 |        105 |\n",
      "|       16 |      GARAGE |      4 |        516 |       12 |          0 |\n",
      "|       17 | SURFACE LOT |      0 |         40 |        7 |        130 |\n",
      "|       18 | SURFACE LOT |      0 |         53 |        7 |        125 |\n",
      "|       19 |      GARAGE |      9 |        772 |        7 |         85 |\n",
      "|       20 | SURFACE LOT |      0 |        110 |        6 |         85 |\n",
      "|       21 |      GARAGE |      7 |        483 |        6 |         80 |\n",
      "|       22 | SURFACE LOT |      0 |         53 |        5 |         70 |\n",
      "|       23 |      GARAGE |      5 |        506 |        7 |         75 |\n",
      "|       24 |      GARAGE |      6 |        384 |        6 |         70 |\n",
      "|       25 |      GARAGE |      5 |       1235 |        7 |         75 |\n",
      "|       26 |      GARAGE |      6 |        560 |        7 |         90 |\n",
      "|       27 | SURFACE LOT |      0 |         29 |        0 |         65 |\n",
      "|       28 | SURFACE LOT |      0 |         76 |        0 |         50 |\n",
      "|       29 | SURFACE LOT |      0 |         32 |        0 |         60 |\n",
      "|       30 |      GARAGE |      3 |        416 |       16 |         65 |\n",
      "|       31 |      GARAGE |      8 |        654 |        7 |         85 |\n",
      "|       32 |      GARAGE |      1 |         85 |       15 |        150 |\n",
      "|       33 | SURFACE LOT |      0 |         15 |        0 |         85 |\n",
      "|       34 | SURFACE LOT |      0 |        177 |        7 |        120 |\n",
      "|       35 | SURFACE LOT |      0 |        244 |        0 |         65 |\n",
      "|       36 | SURFACE LOT |      0 |        117 |     5.25 |          0 |\n",
      "|       37 |      GARAGE |      4 |        500 |        4 |         55 |\n",
      "|       38 |      GARAGE |      3 |        220 |        0 |         50 |\n",
      "|       39 | SURFACE LOT |      0 |         17 |        4 |          0 |\n",
      "|       40 |      GARAGE |      6 |        291 |        7 |         78 |\n",
      "|       41 | SURFACE LOT |      0 |         46 |        5 |         80 |\n",
      "|       42 | SURFACE LOT |      0 |         26 |        4 |          0 |\n",
      "|       43 | SURFACE LOT |      0 |        127 |        4 |         70 |\n",
      "|       44 | SURFACE LOT |      0 |         75 |        4 |         75 |\n",
      "|       45 | SURFACE LOT |      0 |         81 |        8 |         90 |\n",
      "|       46 | SURFACE LOT |      0 |        129 |        4 |         80 |\n",
      "|       47 | SURFACE LOT |      0 |        120 |        5 |         65 |\n",
      "|       48 |      GARAGE |      5 |       1355 |        5 |         45 |\n",
      "|       49 | SURFACE LOT |      0 |         38 |      3.5 |         65 |\n",
      "|       50 |      GARAGE |      3 |        126 |        4 |         70 |\n",
      "|       51 |      GARAGE |      5 |        494 |       12 |         80 |\n",
      "|       52 | SURFACE LOT |      0 |         62 |      5.5 |         80 |\n",
      "|       53 | SURFACE LOT |      0 |         82 |        4 |         59 |\n",
      "|       54 | SURFACE LOT |      0 |         46 |        3 |         55 |\n",
      "|       55 | SURFACE LOT |      0 |        110 |        3 |         55 |\n",
      "|       56 | SURFACE LOT |      0 |         78 |        3 |         55 |\n",
      "|       57 | SURFACE LOT |      0 |         76 |        2 |         30 |\n",
      "|       58 |      GARAGE |      4 |        330 |        0 |         45 |\n",
      "|       59 | SURFACE LOT |      0 |        108 |     2.25 |         45 |\n",
      "|       60 | SURFACE LOT |      0 |        168 |        4 |         70 |\n",
      "|       61 |      GARAGE |      5 |        253 |        3 |         45 |\n",
      "|       62 | SURFACE LOT |      0 |        163 |      2.5 |         50 |\n",
      "|       63 | SURFACE LOT |      0 |        154 |        1 |       17.5 |\n",
      "|       64 | SURFACE LOT |      0 |        154 |        1 |       17.5 |\n",
      "|       65 | SURFACE LOT |      0 |         21 |        0 |         20 |\n",
      "|       66 |      GARAGE |      6 |        962 |       12 |         75 |\n",
      "|       67 |      GARAGE |      2 |        341 |        7 |         95 |\n",
      "|       68 |      GARAGE |      3 |       1925 |       12 |         90 |\n",
      "|       69 |      GARAGE |      4 |        450 |        7 |         85 |\n",
      "|       70 |      GARAGE |      9 |        731 |       10 |         85 |\n",
      "|       71 |      GARAGE |      9 |        534 |        7 |         90 |\n",
      "|       72 |      GARAGE |      5 |        671 |        7 |         80 |\n",
      "|       73 | SURFACE LOT |      0 |        276 |        2 |         45 |\n",
      "|       74 |      GARAGE |      4 |        701 |        8 |         80 |\n",
      "|       75 | SURFACE LOT |      0 |         33 |        2 |         30 |\n",
      "|       76 |      GARAGE |      6 |        789 |        0 |        130 |\n",
      "|       77 |      GARAGE |      1 |        410 |        9 |         85 |\n",
      "|       78 |      GARAGE |      2 |        700 |        9 |         85 |\n",
      "|       79 | SURFACE LOT |      0 |         72 |        0 |         60 |\n",
      "|       80 | SURFACE LOT |      0 |         65 |        0 |         60 |\n",
      "|       81 | SURFACE LOT |      0 |         47 |        0 |         60 |\n",
      "|       82 | SURFACE LOT |      0 |         40 |        5 |         70 |\n",
      "|       83 | SURFACE LOT |      0 |         71 |      5.5 |         85 |\n",
      "|       84 | SURFACE LOT |      0 |         70 |        4 |         85 |\n",
      "|       85 | SURFACE LOT |      0 |        252 |        0 |         50 |\n",
      "|       86 | SURFACE LOT |      0 |         94 |        5 |         59 |\n",
      "|       87 | SURFACE LOT |      0 |         62 |        9 |          0 |\n",
      "|       88 |      GARAGE |      1 |         27 |        9 |          0 |\n",
      "|       89 | SURFACE LOT |      0 |         22 |        5 |         80 |\n",
      "|       90 | SURFACE LOT |      0 |        120 |        5 |         80 |\n",
      "|       91 | SURFACE LOT |      0 |         46 |        5 |         80 |\n",
      "|       92 | SURFACE LOT |      0 |         46 |        2 |          0 |\n",
      "|       93 | SURFACE LOT |      0 |        155 |        2 |         35 |\n",
      "|       94 | SURFACE LOT |      0 |         37 |        1 |         20 |\n",
      "|       95 | SURFACE LOT |      0 |         69 |        0 |         20 |\n",
      "|       96 | SURFACE LOT |      0 |        103 |        0 |         65 |\n",
      "+----------+-------------+--------+------------+----------+------------+\n"
     ]
    }
   ],
   "source": [
    "def show_table(datas):\n",
    "    \"\"\"This function accepts a list and prints a PrettyTable of the data with the first row of the data as the header row.\"\"\"\n",
    "    pt = PrettyTable()\n",
    "    pt.field_names = datas[0]\n",
    "    for row in datas [1:]:\n",
    "        pt.add_row(row)\n",
    "    pt.align = 'r'\n",
    "    print(pt)\n",
    "\n",
    "show_table(data)"
   ]
  },
  {
   "cell_type": "markdown",
   "metadata": {},
   "source": [
    "**Problem C:** Write a function that accepts a list and the lot type and returns a tuple that contains the lot type and the number of the lots of that type."
   ]
  },
  {
   "cell_type": "code",
   "execution_count": 90,
   "metadata": {},
   "outputs": [],
   "source": [
    "def extract_column(Data, columns):\n",
    "    \"\"\"This function extracts a column from a set of data and turns it into a list. This function will be used for the count_lot_type function that follows.\"\"\"\n",
    "    ans = []\n",
    "    for i in Data[1:]:\n",
    "        ans.append(i[columns])\n",
    "    return ans\n",
    "\n",
    "type_fac = extract_column(data, 1)"
   ]
  },
  {
   "cell_type": "code",
   "execution_count": 91,
   "metadata": {},
   "outputs": [
    {
     "name": "stdout",
     "output_type": "stream",
     "text": [
      "['SURFACE LOT', 'SURFACE LOT', 'GARAGE', 'SURFACE LOT', 'GARAGE', 'GARAGE', 'SURFACE LOT', 'SURFACE LOT', 'GARAGE', 'SURFACE LOT', 'GARAGE', 'GARAGE', 'GARAGE', 'GARAGE', 'GARAGE', 'GARAGE', 'SURFACE LOT', 'SURFACE LOT', 'GARAGE', 'SURFACE LOT', 'GARAGE', 'SURFACE LOT', 'GARAGE', 'GARAGE', 'GARAGE', 'GARAGE', 'SURFACE LOT', 'SURFACE LOT', 'SURFACE LOT', 'GARAGE', 'GARAGE', 'GARAGE', 'SURFACE LOT', 'SURFACE LOT', 'SURFACE LOT', 'SURFACE LOT', 'GARAGE', 'GARAGE', 'SURFACE LOT', 'GARAGE', 'SURFACE LOT', 'SURFACE LOT', 'SURFACE LOT', 'SURFACE LOT', 'SURFACE LOT', 'SURFACE LOT', 'SURFACE LOT', 'GARAGE', 'SURFACE LOT', 'GARAGE', 'GARAGE', 'SURFACE LOT', 'SURFACE LOT', 'SURFACE LOT', 'SURFACE LOT', 'SURFACE LOT', 'SURFACE LOT', 'GARAGE', 'SURFACE LOT', 'SURFACE LOT', 'GARAGE', 'SURFACE LOT', 'SURFACE LOT', 'SURFACE LOT', 'SURFACE LOT', 'GARAGE', 'GARAGE', 'GARAGE', 'GARAGE', 'GARAGE', 'GARAGE', 'GARAGE', 'SURFACE LOT', 'GARAGE', 'SURFACE LOT', 'GARAGE', 'GARAGE', 'GARAGE', 'SURFACE LOT', 'SURFACE LOT', 'SURFACE LOT', 'SURFACE LOT', 'SURFACE LOT', 'SURFACE LOT', 'SURFACE LOT', 'SURFACE LOT', 'SURFACE LOT', 'GARAGE', 'SURFACE LOT', 'SURFACE LOT', 'SURFACE LOT', 'SURFACE LOT', 'SURFACE LOT', 'SURFACE LOT', 'SURFACE LOT', 'SURFACE LOT']\n"
     ]
    }
   ],
   "source": [
    "print (type_fac)"
   ]
  },
  {
   "cell_type": "code",
   "execution_count": 92,
   "metadata": {},
   "outputs": [],
   "source": [
    "def count_lot_type(dataa, lot):\n",
    "    \"\"\"This function accepts a list (as was extracted from the data set in the previous function) and a lot type, counts the number of times the requested lot type is found in the data, and returns a tuple of the requested lot and the number of times its found. If a lot type not found in the data is requested, an error message is returned.\n",
    "\"\"\"\n",
    "    \n",
    "    if lot == 'SURFACE LOT':\n",
    "        count = type_fac.count('SURFACE LOT')\n",
    "        lot_type = (lot, count)\n",
    "        print (lot_type)\n",
    "    elif lot == 'GARAGE':\n",
    "        count = type_fac.count('GARAGE')\n",
    "        lot_type = (lot, count)\n",
    "        print (lot_type)\n",
    "    else:\n",
    "        print ('Lot Type Not Available.')"
   ]
  },
  {
   "cell_type": "code",
   "execution_count": 93,
   "metadata": {},
   "outputs": [
    {
     "name": "stdout",
     "output_type": "stream",
     "text": [
      "('SURFACE LOT', 57)\n"
     ]
    }
   ],
   "source": [
    "count_lot_type(data, 'SURFACE LOT')"
   ]
  },
  {
   "cell_type": "code",
   "execution_count": 94,
   "metadata": {},
   "outputs": [
    {
     "name": "stdout",
     "output_type": "stream",
     "text": [
      "('GARAGE', 39)\n"
     ]
    }
   ],
   "source": [
    "count_lot_type(data, 'GARAGE')"
   ]
  },
  {
   "cell_type": "code",
   "execution_count": 95,
   "metadata": {},
   "outputs": [
    {
     "name": "stdout",
     "output_type": "stream",
     "text": [
      "Lot Type Not Available.\n"
     ]
    }
   ],
   "source": [
    "count_lot_type(data, 'PARK')"
   ]
  },
  {
   "cell_type": "markdown",
   "metadata": {},
   "source": [
    "**Problem D:** Write a function that accepts a list and column position and returns the Max, Min, and Average for that column."
   ]
  },
  {
   "cell_type": "code",
   "execution_count": 96,
   "metadata": {},
   "outputs": [],
   "source": [
    "def get_column_stats(datass, column):\n",
    "    \"\"\"This function accepts a list and column position and returns the Max, Min, and Average in a Numpy Array and a Pretty Table. To do so, it makes an initial list called types including the first row of each column in the data to pull the column title for the PrettyTable. Additionally, it makes a list that excludes the first row, turns the remaining rows into a numpy array, and calculates the mean, minimum, and maximum. This function only works on columns 2-5; otherwise, it returns an error message.\"\"\"\n",
    "    if column < 2: \n",
    "        return ('Incorrect Column Choice.')\n",
    "    \n",
    "    else: \n",
    "        types = []\n",
    "        for i in datass:\n",
    "            types.append(i[column])\n",
    "            \n",
    "        ans = []\n",
    "        for i in datass [1:]:\n",
    "            ans.append(float(i[column]))\n",
    "            \n",
    "            \n",
    "        arr = np.array(ans)\n",
    "        mean = np.mean(ans)\n",
    "        mini = np.min(ans)\n",
    "        maxi = np.max(ans)\n",
    "    \n",
    "        table = PrettyTable()\n",
    "        table.field_names = [' ', 'Minimum','Mean','Maximum']\n",
    "        table.add_row ([types[0] , f'{mini:.2F}', f'{mean:.2F}', f'{maxi:.2F}']) \n",
    "        table.align = 'r'\n",
    "        print (table)"
   ]
  },
  {
   "cell_type": "code",
   "execution_count": 97,
   "metadata": {},
   "outputs": [
    {
     "data": {
      "text/plain": [
       "'Incorrect Column Choice.'"
      ]
     },
     "execution_count": 97,
     "metadata": {},
     "output_type": "execute_result"
    }
   ],
   "source": [
    "get_column_stats(data, 0)"
   ]
  },
  {
   "cell_type": "code",
   "execution_count": 98,
   "metadata": {},
   "outputs": [
    {
     "data": {
      "text/plain": [
       "'Incorrect Column Choice.'"
      ]
     },
     "execution_count": 98,
     "metadata": {},
     "output_type": "execute_result"
    }
   ],
   "source": [
    "get_column_stats(data,1)"
   ]
  },
  {
   "cell_type": "code",
   "execution_count": 99,
   "metadata": {},
   "outputs": [
    {
     "name": "stdout",
     "output_type": "stream",
     "text": [
      "+--------+---------+------+---------+\n",
      "|        | Minimum | Mean | Maximum |\n",
      "+--------+---------+------+---------+\n",
      "| LEVELS |    0.00 | 1.97 |    9.00 |\n",
      "+--------+---------+------+---------+\n"
     ]
    }
   ],
   "source": [
    "get_column_stats(data,2)"
   ]
  },
  {
   "cell_type": "code",
   "execution_count": 100,
   "metadata": {},
   "outputs": [
    {
     "name": "stdout",
     "output_type": "stream",
     "text": [
      "+------------+---------+--------+---------+\n",
      "|            | Minimum |   Mean | Maximum |\n",
      "+------------+---------+--------+---------+\n",
      "| TOTAL_SPCS |   15.00 | 304.81 | 1925.00 |\n",
      "+------------+---------+--------+---------+\n"
     ]
    }
   ],
   "source": [
    "get_column_stats(data,3)"
   ]
  },
  {
   "cell_type": "code",
   "execution_count": 101,
   "metadata": {},
   "outputs": [
    {
     "name": "stdout",
     "output_type": "stream",
     "text": [
      "+----------+---------+------+---------+\n",
      "|          | Minimum | Mean | Maximum |\n",
      "+----------+---------+------+---------+\n",
      "| DAY_RATE |    0.00 | 4.83 |   16.00 |\n",
      "+----------+---------+------+---------+\n"
     ]
    }
   ],
   "source": [
    "get_column_stats(data,4)"
   ]
  },
  {
   "cell_type": "code",
   "execution_count": 102,
   "metadata": {},
   "outputs": [
    {
     "name": "stdout",
     "output_type": "stream",
     "text": [
      "+------------+---------+-------+---------+\n",
      "|            | Minimum |  Mean | Maximum |\n",
      "+------------+---------+-------+---------+\n",
      "| MONTH_RATE |    0.00 | 63.45 |  150.00 |\n",
      "+------------+---------+-------+---------+\n"
     ]
    }
   ],
   "source": [
    "get_column_stats(data,5)"
   ]
  }
 ],
 "metadata": {
  "kernelspec": {
   "display_name": "Python 3",
   "language": "python",
   "name": "python3"
  },
  "language_info": {
   "codemirror_mode": {
    "name": "ipython",
    "version": 3
   },
   "file_extension": ".py",
   "mimetype": "text/x-python",
   "name": "python",
   "nbconvert_exporter": "python",
   "pygments_lexer": "ipython3",
   "version": "3.8.3"
  }
 },
 "nbformat": 4,
 "nbformat_minor": 4
}
